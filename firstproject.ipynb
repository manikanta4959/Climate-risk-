{
 "cells": [
  {
   "cell_type": "code",
   "execution_count": 1,
   "id": "4339b66e-bbb3-4bc6-a0a8-7c01992c5c24",
   "metadata": {},
   "outputs": [],
   "source": [
    "import pandas as pd\n",
    "import numpy as np"
   ]
  },
  {
   "cell_type": "code",
   "execution_count": 2,
   "id": "9f037631-3b3b-49e9-8424-c62ace527a19",
   "metadata": {},
   "outputs": [],
   "source": [
    "df=pd.read_csv(\"C:\\\\Users\\\\Hari Manikanta\\\\Downloads\\\\world_risk_index.csv\")\n",
    "\n"
   ]
  },
  {
   "cell_type": "code",
   "execution_count": 3,
   "id": "beb360d8-623c-4ca0-95ea-4577cf911e27",
   "metadata": {},
   "outputs": [
    {
     "name": "stdout",
     "output_type": "stream",
     "text": [
      "<class 'pandas.core.frame.DataFrame'>\n",
      "RangeIndex: 1917 entries, 0 to 1916\n",
      "Data columns (total 12 columns):\n",
      " #   Column                        Non-Null Count  Dtype  \n",
      "---  ------                        --------------  -----  \n",
      " 0   Region                        1917 non-null   object \n",
      " 1   WRI                           1917 non-null   float64\n",
      " 2   Exposure                      1917 non-null   float64\n",
      " 3   Vulnerability                 1917 non-null   float64\n",
      " 4   Susceptibility                1917 non-null   float64\n",
      " 5   Lack of Coping Capabilities   1917 non-null   float64\n",
      " 6    Lack of Adaptive Capacities  1916 non-null   float64\n",
      " 7   Year                          1917 non-null   int64  \n",
      " 8   Exposure Category             1917 non-null   object \n",
      " 9   WRI Category                  1916 non-null   object \n",
      " 10  Vulnerability Category        1913 non-null   object \n",
      " 11  Susceptibility Category       1917 non-null   object \n",
      "dtypes: float64(6), int64(1), object(5)\n",
      "memory usage: 179.8+ KB\n"
     ]
    }
   ],
   "source": [
    "df.info()"
   ]
  },
  {
   "cell_type": "code",
   "execution_count": 4,
   "id": "c4a9451b-087c-411f-91e4-b0da26719008",
   "metadata": {},
   "outputs": [
    {
     "data": {
      "text/html": [
       "<div>\n",
       "<style scoped>\n",
       "    .dataframe tbody tr th:only-of-type {\n",
       "        vertical-align: middle;\n",
       "    }\n",
       "\n",
       "    .dataframe tbody tr th {\n",
       "        vertical-align: top;\n",
       "    }\n",
       "\n",
       "    .dataframe thead th {\n",
       "        text-align: right;\n",
       "    }\n",
       "</style>\n",
       "<table border=\"1\" class=\"dataframe\">\n",
       "  <thead>\n",
       "    <tr style=\"text-align: right;\">\n",
       "      <th></th>\n",
       "      <th>WRI</th>\n",
       "      <th>Exposure</th>\n",
       "      <th>Vulnerability</th>\n",
       "      <th>Susceptibility</th>\n",
       "      <th>Lack of Coping Capabilities</th>\n",
       "      <th>Lack of Adaptive Capacities</th>\n",
       "      <th>Year</th>\n",
       "    </tr>\n",
       "  </thead>\n",
       "  <tbody>\n",
       "    <tr>\n",
       "      <th>count</th>\n",
       "      <td>1917.000000</td>\n",
       "      <td>1917.000000</td>\n",
       "      <td>1917.000000</td>\n",
       "      <td>1917.000000</td>\n",
       "      <td>1917.000000</td>\n",
       "      <td>1916.000000</td>\n",
       "      <td>1917.000000</td>\n",
       "    </tr>\n",
       "    <tr>\n",
       "      <th>mean</th>\n",
       "      <td>7.551763</td>\n",
       "      <td>15.388336</td>\n",
       "      <td>48.075759</td>\n",
       "      <td>30.739431</td>\n",
       "      <td>70.438289</td>\n",
       "      <td>43.090511</td>\n",
       "      <td>2016.049557</td>\n",
       "    </tr>\n",
       "    <tr>\n",
       "      <th>std</th>\n",
       "      <td>5.553257</td>\n",
       "      <td>10.240135</td>\n",
       "      <td>13.835666</td>\n",
       "      <td>15.667030</td>\n",
       "      <td>15.038854</td>\n",
       "      <td>13.551156</td>\n",
       "      <td>3.182045</td>\n",
       "    </tr>\n",
       "    <tr>\n",
       "      <th>min</th>\n",
       "      <td>0.020000</td>\n",
       "      <td>0.050000</td>\n",
       "      <td>14.310000</td>\n",
       "      <td>8.260000</td>\n",
       "      <td>31.590000</td>\n",
       "      <td>11.160000</td>\n",
       "      <td>2011.000000</td>\n",
       "    </tr>\n",
       "    <tr>\n",
       "      <th>25%</th>\n",
       "      <td>3.740000</td>\n",
       "      <td>10.160000</td>\n",
       "      <td>37.040000</td>\n",
       "      <td>17.790000</td>\n",
       "      <td>59.330000</td>\n",
       "      <td>33.192500</td>\n",
       "      <td>2013.000000</td>\n",
       "    </tr>\n",
       "    <tr>\n",
       "      <th>50%</th>\n",
       "      <td>6.520000</td>\n",
       "      <td>12.760000</td>\n",
       "      <td>47.100000</td>\n",
       "      <td>25.400000</td>\n",
       "      <td>74.230000</td>\n",
       "      <td>43.080000</td>\n",
       "      <td>2016.000000</td>\n",
       "    </tr>\n",
       "    <tr>\n",
       "      <th>75%</th>\n",
       "      <td>9.400000</td>\n",
       "      <td>16.450000</td>\n",
       "      <td>60.060000</td>\n",
       "      <td>42.640000</td>\n",
       "      <td>83.000000</td>\n",
       "      <td>53.065000</td>\n",
       "      <td>2019.000000</td>\n",
       "    </tr>\n",
       "    <tr>\n",
       "      <th>max</th>\n",
       "      <td>56.710000</td>\n",
       "      <td>99.880000</td>\n",
       "      <td>76.470000</td>\n",
       "      <td>70.830000</td>\n",
       "      <td>94.360000</td>\n",
       "      <td>76.110000</td>\n",
       "      <td>2021.000000</td>\n",
       "    </tr>\n",
       "  </tbody>\n",
       "</table>\n",
       "</div>"
      ],
      "text/plain": [
       "               WRI     Exposure  Vulnerability  Susceptibility  \\\n",
       "count  1917.000000  1917.000000    1917.000000     1917.000000   \n",
       "mean      7.551763    15.388336      48.075759       30.739431   \n",
       "std       5.553257    10.240135      13.835666       15.667030   \n",
       "min       0.020000     0.050000      14.310000        8.260000   \n",
       "25%       3.740000    10.160000      37.040000       17.790000   \n",
       "50%       6.520000    12.760000      47.100000       25.400000   \n",
       "75%       9.400000    16.450000      60.060000       42.640000   \n",
       "max      56.710000    99.880000      76.470000       70.830000   \n",
       "\n",
       "       Lack of Coping Capabilities   Lack of Adaptive Capacities         Year  \n",
       "count                  1917.000000                   1916.000000  1917.000000  \n",
       "mean                     70.438289                     43.090511  2016.049557  \n",
       "std                      15.038854                     13.551156     3.182045  \n",
       "min                      31.590000                     11.160000  2011.000000  \n",
       "25%                      59.330000                     33.192500  2013.000000  \n",
       "50%                      74.230000                     43.080000  2016.000000  \n",
       "75%                      83.000000                     53.065000  2019.000000  \n",
       "max                      94.360000                     76.110000  2021.000000  "
      ]
     },
     "execution_count": 4,
     "metadata": {},
     "output_type": "execute_result"
    }
   ],
   "source": [
    "df.describe()"
   ]
  },
  {
   "cell_type": "code",
   "execution_count": 5,
   "id": "b215b503-c698-4379-9eca-363ef2c38afb",
   "metadata": {},
   "outputs": [
    {
     "data": {
      "text/plain": [
       "Region                          0\n",
       "WRI                             0\n",
       "Exposure                        0\n",
       "Vulnerability                   0\n",
       "Susceptibility                  0\n",
       "Lack of Coping Capabilities     0\n",
       " Lack of Adaptive Capacities    1\n",
       "Year                            0\n",
       "Exposure Category               0\n",
       "WRI Category                    1\n",
       "Vulnerability Category          4\n",
       "Susceptibility Category         0\n",
       "dtype: int64"
      ]
     },
     "execution_count": 5,
     "metadata": {},
     "output_type": "execute_result"
    }
   ],
   "source": [
    "df.isnull().sum()"
   ]
  },
  {
   "cell_type": "code",
   "execution_count": null,
   "id": "56c2dcbf-d24f-411f-837f-2beb80607500",
   "metadata": {},
   "outputs": [],
   "source": []
  }
 ],
 "metadata": {
  "kernelspec": {
   "display_name": "Python 3 (ipykernel)",
   "language": "python",
   "name": "python3"
  },
  "language_info": {
   "codemirror_mode": {
    "name": "ipython",
    "version": 3
   },
   "file_extension": ".py",
   "mimetype": "text/x-python",
   "name": "python",
   "nbconvert_exporter": "python",
   "pygments_lexer": "ipython3",
   "version": "3.13.5"
  }
 },
 "nbformat": 4,
 "nbformat_minor": 5
}
